{
 "cells": [
  {
   "cell_type": "markdown",
   "metadata": {},
   "source": [
    "# \"Code Blog\"\n",
    "> A blog of my journey learning new code. \n",
    "\n",
    "- toc: true\n",
    "- branch: master\n",
    "- badges: true\n",
    "- comments: true\n",
    "- author: Naja Fonseca\n",
    "- categories: [markdown, jupyter]"
   ]
  },
  {
   "cell_type": "markdown",
   "metadata": {},
   "source": [
    "## What is an id?\n",
    "The id() method returns a unique integer (identity) of a passed argument object.\n",
    "It takes a single thing inside the parameter, sort of like a variable inside and can tell you what it is. So say you have an assigned variable, and when you put it in the id and ask the code to output the id, the id will tell you what the variable is. “Id of *variable* is …”\n",
    "\n",
    "## What is dx and dy?\n",
    "dx and dy is the amount of change in the position. dx changes the horizontal position of a variable and dy changes the vertical position of a variable.\n",
    "\n",
    "## What does a const do in Javascript?\n",
    "A const does not represent a constant value, but a constant reference to a value. You cannot reassign constant values/arrays/objects.  \n",
    "\n",
    "## What is the getElementById command do and how does it connect to DOM?\n",
    "When a web page is loaded, the browser creates a Document Object Model of the page. The DOM defines a standard for accessing documents.\n",
    "\n",
    "A DOM connects to the getElementById command because using a Id is the easiest way to find an HTML element in the DOM. If the element is found, the method will return the element as an object (in element). Which is why when running the getElementById command for both the snakeboard and to make it 2d comes out as an object. \n",
    "\n",
    "## What is the EventListener() method do?\n",
    "The addEventListener() method attaches an event handler to the specified element. The addEventListener() method attaches an event handler to an element without overwriting existing event handlers. When using the addEventListener() method, the JavaScript is separated from the HTML markup, for better readability and allows you to add event listeners even when you do not control the HTML markup.\n",
    "\n",
    "## What does ctx mean in Javascript?\n",
    "ctx is just a variable that is the abbreviation of ConTeXt.\n"
   ]
  }
 ],
 "metadata": {
  "language_info": {
   "name": "python"
  },
  "orig_nbformat": 4
 },
 "nbformat": 4,
 "nbformat_minor": 2
}
