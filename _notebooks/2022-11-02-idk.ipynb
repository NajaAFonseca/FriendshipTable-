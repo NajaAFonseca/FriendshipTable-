{
 "cells": [
  {
   "cell_type": "markdown",
   "metadata": {},
   "source": [
    "# idk\n",
    "> I dont know\n",
    "\n",
    "- title: i dont know\n",
    "- toc: true\n",
    "- categories: [CB]\n",
    "- tags: [python]"
   ]
  },
  {
   "cell_type": "code",
   "execution_count": 2,
   "metadata": {},
   "outputs": [
    {
     "name": "stdout",
     "output_type": "stream",
     "text": [
      "name Lina <class 'str'>\n",
      "age 16 <class 'int'>\n",
      "score 40.0 <class 'float'>\n",
      "name Lydia <class 'str'>\n",
      "age 16 <class 'int'>\n",
      "score 45.0 <class 'float'>\n",
      "name Dylan <class 'str'>\n",
      "age 15 <class 'int'>\n",
      "score 20.0 <class 'float'>\n",
      "name Naja <class 'str'>\n",
      "age 15 <class 'int'>\n",
      "score 50.0 <class 'float'>\n",
      "\n"
     ]
    }
   ],
   "source": [
    "# Sample of Python Variables\n",
    "\n",
    "# variable of type string\n",
    "name = \"Lina\"\n",
    "print(\"name\", name, type(name))\n",
    "\n",
    "# variable of type integer\n",
    "age = 16\n",
    "print(\"age\", age, type(age))\n",
    "\n",
    "# variable of type float\n",
    "score = 40.0\n",
    "print(\"score\", score, type(score))\n",
    "\n",
    "name = \"Lydia\"\n",
    "print(\"name\", name, type(name))\n",
    "\n",
    "# variable of type integer\n",
    "age = 16\n",
    "print(\"age\", age, type(age))\n",
    "\n",
    "# variable of type float\n",
    "score = 45.0\n",
    "print(\"score\", score, type(score))\n",
    "\n",
    "name = \"Dylan\"\n",
    "print(\"name\", name, type(name))\n",
    "\n",
    "# variable of type integer\n",
    "age = 15\n",
    "print(\"age\", age, type(age))\n",
    "\n",
    "# variable of type float\n",
    "score = 20.0\n",
    "print(\"score\", score, type(score))\n",
    "\n",
    "name = \"Naja\"\n",
    "print(\"name\", name, type(name))\n",
    "\n",
    "# variable of type integer\n",
    "age = 15\n",
    "print(\"age\", age, type(age))\n",
    "\n",
    "# variable of type float\n",
    "score = 50.0\n",
    "print(\"score\", score, type(score))\n",
    "\n",
    "print()\n",
    "\n",
    "# variable of type dictionary (a group of keys and values)\n",
    "person = {\n",
    "    \"name\": name,\n",
    "    \"age\": age,\n",
    "    \"score\": score,\n",
    "}\n",
    "\n"
   ]
  }
 ],
 "metadata": {
  "kernelspec": {
   "display_name": "Python 3.8.9 64-bit",
   "language": "python",
   "name": "python3"
  },
  "language_info": {
   "codemirror_mode": {
    "name": "ipython",
    "version": 3
   },
   "file_extension": ".py",
   "mimetype": "text/x-python",
   "name": "python",
   "nbconvert_exporter": "python",
   "pygments_lexer": "ipython3",
   "version": "3.8.9"
  },
  "orig_nbformat": 4,
  "vscode": {
   "interpreter": {
    "hash": "31f2aee4e71d21fbe5cf8b01ff0e069b9275f58929596ceb00d14d90e3e16cd6"
   }
  }
 },
 "nbformat": 4,
 "nbformat_minor": 2
}
