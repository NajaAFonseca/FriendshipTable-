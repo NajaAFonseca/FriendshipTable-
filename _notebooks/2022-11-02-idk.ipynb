{
 "cells": [
  {
   "cell_type": "markdown",
   "metadata": {},
   "source": [
    "# idk\n",
    "> I dont know\n",
    "\n",
    "- title: i dont know\n",
    "- toc: true\n",
    "- categories: [CB]\n",
    "- tags: [python]"
   ]
  },
  {
   "cell_type": "code",
   "execution_count": 11,
   "metadata": {},
   "outputs": [
    {
     "name": "stdout",
     "output_type": "stream",
     "text": [
      "name Lina <class 'str'>\n",
      "age 16 <class 'int'>\n",
      "score 40.0 <class 'float'>\n",
      "name Lydia <class 'str'>\n",
      "age 16 <class 'int'>\n",
      "score 45.0 <class 'float'>\n",
      "name Dylan <class 'str'>\n",
      "age 15 <class 'int'>\n",
      "score 20.0 <class 'float'>\n",
      "name Naja <class 'str'>\n",
      "age 15 <class 'int'>\n",
      "score 50.0 <class 'float'>\n",
      "\n"
     ]
    }
   ],
   "source": [
    "# Sample of Python Variables\n",
    "\n",
    "# variable of type string\n",
    "name = \"Lina\"\n",
    "print(\"name\", name, type(name))\n",
    "\n",
    "# variable of type integer\n",
    "age = 16\n",
    "print(\"age\", age, type(age))\n",
    "\n",
    "# variable of type float\n",
    "score = 40.0\n",
    "print(\"score\", score, type(score))\n",
    "\n",
    "name = \"Lydia\"\n",
    "print(\"name\", name, type(name))\n",
    "\n",
    "# variable of type integer\n",
    "age = 16\n",
    "print(\"age\", age, type(age))\n",
    "\n",
    "# variable of type float\n",
    "score = 45.0\n",
    "print(\"score\", score, type(score))\n",
    "\n",
    "name = \"Dylan\"\n",
    "print(\"name\", name, type(name))\n",
    "\n",
    "# variable of type integer\n",
    "age = 15\n",
    "print(\"age\", age, type(age))\n",
    "\n",
    "# variable of type float\n",
    "score = 20.0\n",
    "print(\"score\", score, type(score))\n",
    "\n",
    "name = \"Naja\"\n",
    "print(\"name\", name, type(name))\n",
    "\n",
    "# variable of type integer\n",
    "age = 15\n",
    "print(\"age\", age, type(age))\n",
    "\n",
    "# variable of type float\n",
    "score = 50.0\n",
    "print(\"score\", score, type(score))\n",
    "\n",
    "print()\n",
    "\n",
    "# variable of type dictionary (a group of keys and values)\n",
    "person = {\n",
    "    \"name\": name,\n",
    "    \"age\": age,\n",
    "    \"score\": score,\n",
    "}\n",
    "\n"
   ]
  },
  {
   "cell_type": "code",
   "execution_count": null,
   "metadata": {},
   "outputs": [
    {
     "name": "stdout",
     "output_type": "stream",
     "text": [
      "[{'FirstName': 'Lina', 'LastName': 'Awad', 'DOB': 'October 28', 'Residence': 'San Diego', 'Score': ['30']}, {'FirstName': 'Dylan', 'LastName': 'Garret', 'DOB': 'March 3', 'Residence': 'San Diego', 'Score': ['20']}, {'FirstName': 'Lydia', 'LastName': 'Cho', 'DOB': 'April 12', 'Residence': 'San Diego', 'Score': ['40']}, {'FirstName': 'Naja', 'LastName': 'Fonseca', 'DOB': 'September 18', 'Residence': 'San Diego', 'Score': ['45']}]\n"
     ]
    }
   ],
   "source": [
    "# Define an empty List called InfoDb\n",
    "InfoDb = []\n",
    "\n",
    "# Append to List a Dictionary of key/values related to a person and cars\n",
    "InfoDb.append({\n",
    "    \"FirstName\": \"Lina\",\n",
    "    \"LastName\": \"Awad\",\n",
    "    \"DOB\": \"October 28\",\n",
    "    \"Residence\": \"San Diego\",\n",
    "    \"Score\": [\"30\"]\n",
    "})\n",
    "\n",
    "# Append to List a 2nd Dictionary of key/values\n",
    "InfoDb.append({\n",
    "    \"FirstName\": \"Dylan\",\n",
    "    \"LastName\": \"Garret\",\n",
    "    \"DOB\": \"March 3\",\n",
    "    \"Residence\": \"San Diego\",\n",
    "    \"Score\": [\"20\"]\n",
    "})\n",
    "\n",
    "InfoDb.append({\n",
    "    \"FirstName\": \"Lydia\",\n",
    "    \"LastName\": \"Cho\",\n",
    "    \"DOB\": \"April 12\",\n",
    "    \"Residence\": \"San Diego\",\n",
    "    \"Score\": [\"40\"]\n",
    "})\n",
    "\n",
    "InfoDb.append({\n",
    "    \"FirstName\": \"Naja\",\n",
    "    \"LastName\": \"Fonseca\",\n",
    "    \"DOB\": \"September 18\",\n",
    "    \"Residence\": \"San Diego\",\n",
    "    \"Score\": [\"45\"]\n",
    "})\n",
    "\n",
    "# Print the data structure\n",
    "print(InfoDb)"
   ]
  },
  {
   "cell_type": "code",
   "execution_count": null,
   "metadata": {},
   "outputs": [
    {
     "name": "stdout",
     "output_type": "stream",
     "text": [
      "For loop output\n",
      "\n",
      "Lina Awad\n",
      "\t Residence: San Diego\n",
      "\t Birth Day: October 28\n",
      "\t Score:30\n",
      "\n",
      "Dylan Garret\n",
      "\t Residence: San Diego\n",
      "\t Birth Day: March 3\n",
      "\t Score:20\n",
      "\n",
      "Lydia Cho\n",
      "\t Residence: San Diego\n",
      "\t Birth Day: April 12\n",
      "\t Score:40\n",
      "\n",
      "Naja Fonseca\n",
      "\t Residence: San Diego\n",
      "\t Birth Day: September 18\n",
      "\t Score:45\n",
      "\n"
     ]
    }
   ],
   "source": [
    "# given and index this will print InfoDb content\n",
    "def print_data(d_rec):\n",
    "    print(d_rec[\"FirstName\"], d_rec[\"LastName\"])  # using comma puts space between values\n",
    "    print(\"\\t\", \"Residence:\", d_rec[\"Residence\"]) # \\t is a tab indent\n",
    "    print(\"\\t\", \"Birth Day:\", d_rec[\"DOB\"])\n",
    "    print(\"\\t\", \"Score:\", end=\"\")  # end=\"\" make sure no return occurs\n",
    "    print(\", \".join(d_rec[\"Score\"]))  # join allows printing a string list with separator\n",
    "    print()\n",
    "\n",
    "\n",
    "# for loop iterates on length of InfoDb\n",
    "def for_loop():\n",
    "    print(\"For loop output\\n\")\n",
    "    for record in InfoDb:\n",
    "        print_data(record)\n",
    "\n",
    "for_loop()"
   ]
  }
 ],
 "metadata": {
  "kernelspec": {
   "display_name": "Python 3.10.4 64-bit",
   "language": "python",
   "name": "python3"
  },
  "language_info": {
   "codemirror_mode": {
    "name": "ipython",
    "version": 3
   },
   "file_extension": ".py",
   "mimetype": "text/x-python",
   "name": "python",
   "nbconvert_exporter": "python",
   "pygments_lexer": "ipython3",
   "version": "3.10.4"
  },
  "orig_nbformat": 4,
  "vscode": {
   "interpreter": {
    "hash": "aee8b7b246df8f9039afb4144a1f6fd8d2ca17a180786b69acc140d282b71a49"
   }
  }
 },
 "nbformat": 4,
 "nbformat_minor": 2
}
