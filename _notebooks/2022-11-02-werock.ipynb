{
 "cells": [
  {
   "cell_type": "markdown",
   "metadata": {},
   "source": [
    "# We rock\n",
    "> Who won?\n",
    "\n",
    "- title: prove yourself\n",
    "- toc: true\n",
    "- categories: [CB]\n",
    "- tags: [python]"
   ]
  },
  {
   "cell_type": "code",
   "execution_count": 9,
   "metadata": {},
   "outputs": [
    {
     "name": "stdout",
     "output_type": "stream",
     "text": [
      "\n",
      "Unsorted:\n",
      "['25', 'bill']\n",
      "[50, 'lina']\n",
      "[40, 'naja']\n",
      "[70, 'lydia']\n",
      "[15, 'dylan']\n",
      "[45, 'faris']\n",
      "[90, 'bill']\n",
      "[120, 'bill']\n",
      "[200, 'bill']\n",
      "[310, 'Grant']\n",
      "\n",
      "Sorted:\n",
      "['25', 'bill']\n",
      "[310, 'Grant']\n",
      "[200, 'bill']\n",
      "[120, 'bill']\n",
      "[90, 'bill']\n",
      "[70, 'lydia']\n",
      "[50, 'lina']\n",
      "[45, 'faris']\n",
      "[40, 'naja']\n"
     ]
    }
   ],
   "source": [
    "import csv\n",
    "\n",
    "score=input(\"whats ya score\")\n",
    "username=input(\"whats ya name\")\n",
    "\n",
    "with open (\"protleader.csv\", \"a\", newline='') as file:\n",
    "    fields=['score', 'name']\n",
    "    writer=csv.DictWriter(file, fieldnames=fields)\n",
    "    writer.writerow({'score' : score, 'name' : username})\n",
    "\n",
    "with open (\"protleader.csv\", \"r\") as file:\n",
    "    sortlist=[]\n",
    "    reader=csv.reader(file)\n",
    "    for i in reader:\n",
    "        sortlist.append(i)\n",
    "for i in range(len(sortlist)):\n",
    "    if i != 0:\n",
    "        sortlist[i][0]=int(sortlist[i][int(0)])\n",
    "\n",
    "\n",
    "print(\"\")\n",
    "\n",
    "print(\"Unsorted:\")\n",
    "for i in range(len(sortlist)):\n",
    "    print(sortlist[i])\n",
    "\n",
    "\n",
    "for i in range(555):\n",
    "    for i in range(len(sortlist)-1):\n",
    "        if i != 0:\n",
    "            if sortlist[i][0] < sortlist[i+1][0]:\n",
    "                change=sortlist[i]\n",
    "                sortlist[i]=sortlist[i+1]\n",
    "                sortlist[i+1]=change\n",
    "\n",
    "\n",
    "print(\"\")\n",
    "\n",
    "print(\"Sorted:\")\n",
    "for i in range(len(sortlist)-1):\n",
    "    print(sortlist[i])"
   ]
  }
 ],
 "metadata": {
  "kernelspec": {
   "display_name": "Python 3.8.9 64-bit",
   "language": "python",
   "name": "python3"
  },
  "language_info": {
   "codemirror_mode": {
    "name": "ipython",
    "version": 3
   },
   "file_extension": ".py",
   "mimetype": "text/x-python",
   "name": "python",
   "nbconvert_exporter": "python",
   "pygments_lexer": "ipython3",
   "version": "3.8.9"
  },
  "orig_nbformat": 4,
  "vscode": {
   "interpreter": {
    "hash": "31f2aee4e71d21fbe5cf8b01ff0e069b9275f58929596ceb00d14d90e3e16cd6"
   }
  }
 },
 "nbformat": 4,
 "nbformat_minor": 2
}
